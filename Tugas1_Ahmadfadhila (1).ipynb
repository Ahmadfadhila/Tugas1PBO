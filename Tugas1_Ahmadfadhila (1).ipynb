{
  "nbformat": 4,
  "nbformat_minor": 0,
  "metadata": {
    "colab": {
      "provenance": []
    },
    "kernelspec": {
      "name": "python3",
      "display_name": "Python 3"
    },
    "language_info": {
      "name": "python"
    }
  },
  "cells": [
    {
      "cell_type": "code",
      "source": [
        "for i in range(1, 101):\n",
        "    if i % 10 == 0:\n",
        "        for _ in range(3):\n",
        "            print(\"Ahmadfadhila\")\n",
        "    else:\n",
        "        print(i)"
      ],
      "metadata": {
        "colab": {
          "base_uri": "https://localhost:8080/"
        },
        "id": "VOxkh5kH9eP6",
        "outputId": "88e439a8-b32b-4286-da8d-be0a4fafea30"
      },
      "execution_count": 6,
      "outputs": [
        {
          "output_type": "stream",
          "name": "stdout",
          "text": [
            "1\n",
            "2\n",
            "3\n",
            "4\n",
            "5\n",
            "6\n",
            "7\n",
            "8\n",
            "9\n",
            "Ahmadfadhila\n",
            "Ahmadfadhila\n",
            "Ahmadfadhila\n",
            "11\n",
            "12\n",
            "13\n",
            "14\n",
            "15\n",
            "16\n",
            "17\n",
            "18\n",
            "19\n",
            "Ahmadfadhila\n",
            "Ahmadfadhila\n",
            "Ahmadfadhila\n",
            "21\n",
            "22\n",
            "23\n",
            "24\n",
            "25\n",
            "26\n",
            "27\n",
            "28\n",
            "29\n",
            "Ahmadfadhila\n",
            "Ahmadfadhila\n",
            "Ahmadfadhila\n",
            "31\n",
            "32\n",
            "33\n",
            "34\n",
            "35\n",
            "36\n",
            "37\n",
            "38\n",
            "39\n",
            "Ahmadfadhila\n",
            "Ahmadfadhila\n",
            "Ahmadfadhila\n",
            "41\n",
            "42\n",
            "43\n",
            "44\n",
            "45\n",
            "46\n",
            "47\n",
            "48\n",
            "49\n",
            "Ahmadfadhila\n",
            "Ahmadfadhila\n",
            "Ahmadfadhila\n",
            "51\n",
            "52\n",
            "53\n",
            "54\n",
            "55\n",
            "56\n",
            "57\n",
            "58\n",
            "59\n",
            "Ahmadfadhila\n",
            "Ahmadfadhila\n",
            "Ahmadfadhila\n",
            "61\n",
            "62\n",
            "63\n",
            "64\n",
            "65\n",
            "66\n",
            "67\n",
            "68\n",
            "69\n",
            "Ahmadfadhila\n",
            "Ahmadfadhila\n",
            "Ahmadfadhila\n",
            "71\n",
            "72\n",
            "73\n",
            "74\n",
            "75\n",
            "76\n",
            "77\n",
            "78\n",
            "79\n",
            "Ahmadfadhila\n",
            "Ahmadfadhila\n",
            "Ahmadfadhila\n",
            "81\n",
            "82\n",
            "83\n",
            "84\n",
            "85\n",
            "86\n",
            "87\n",
            "88\n",
            "89\n",
            "Ahmadfadhila\n",
            "Ahmadfadhila\n",
            "Ahmadfadhila\n",
            "91\n",
            "92\n",
            "93\n",
            "94\n",
            "95\n",
            "96\n",
            "97\n",
            "98\n",
            "99\n",
            "Ahmadfadhila\n",
            "Ahmadfadhila\n",
            "Ahmadfadhila\n"
          ]
        }
      ]
    },
    {
      "cell_type": "code",
      "execution_count": 7,
      "metadata": {
        "colab": {
          "base_uri": "https://localhost:8080/"
        },
        "id": "3TcsLqrK9O7Q",
        "outputId": "2a410217-71da-4dcb-85a2-e78d2656accf"
      },
      "outputs": [
        {
          "output_type": "stream",
          "name": "stdout",
          "text": [
            "2\n",
            "3\n",
            "5\n",
            "7\n",
            "11\n",
            "13\n",
            "17\n",
            "19\n",
            "23\n",
            "Jumlah angka prima: 9\n"
          ]
        }
      ],
      "source": [
        "jumlah_prima = 0\n",
        "\n",
        "# for\n",
        "for i in range(2, 24):\n",
        "\n",
        "    # Cek Bilangan Prima\n",
        "    prima = True\n",
        "    for j in range(2, int(i ** 0.5) + 1):\n",
        "        if i % j == 0:\n",
        "            prima = False\n",
        "            break\n",
        "\n",
        "    # Output angka jika prima\n",
        "    if prima:\n",
        "        jumlah_prima += 1\n",
        "        print(i)\n",
        "\n",
        "print(\"Jumlah angka prima:\", jumlah_prima)"
      ]
    },
    {
      "cell_type": "code",
      "source": [
        "# While Loop dengan if else\n",
        "j = 1\n",
        "while j <= 24:\n",
        "    if j % 3 == 0:\n",
        "        print(\"Kelipatan 3\")\n",
        "    else:\n",
        "        print(j)\n",
        "    j += 1"
      ],
      "metadata": {
        "colab": {
          "base_uri": "https://localhost:8080/"
        },
        "id": "daztVevz93Sj",
        "outputId": "2da5e04f-22fa-4b1d-e4a4-4e9712a2a3b1"
      },
      "execution_count": 8,
      "outputs": [
        {
          "output_type": "stream",
          "name": "stdout",
          "text": [
            "1\n",
            "2\n",
            "Kelipatan 3\n",
            "4\n",
            "5\n",
            "Kelipatan 3\n",
            "7\n",
            "8\n",
            "Kelipatan 3\n",
            "10\n",
            "11\n",
            "Kelipatan 3\n",
            "13\n",
            "14\n",
            "Kelipatan 3\n",
            "16\n",
            "17\n",
            "Kelipatan 3\n",
            "19\n",
            "20\n",
            "Kelipatan 3\n",
            "22\n",
            "23\n",
            "Kelipatan 3\n"
          ]
        }
      ]
    },
    {
      "cell_type": "code",
      "source": [
        "angka = [\n",
        "    \"Satu\", \"Dua\", \"Tiga\", \"Empat\", \"Lima\", \"Enam\", \"Tujuh\", \"Delapan\", \"Sembilan\", \"Sepuluh\",\n",
        "]\n",
        "\n",
        "# For\n",
        "for i in angka:\n",
        "    print(i)"
      ],
      "metadata": {
        "colab": {
          "base_uri": "https://localhost:8080/"
        },
        "id": "ZfB515ZG96Rp",
        "outputId": "c0f500fd-6dd0-4a58-eaaf-7125aa86c2e3"
      },
      "execution_count": 10,
      "outputs": [
        {
          "output_type": "stream",
          "name": "stdout",
          "text": [
            "Satu\n",
            "Dua\n",
            "Tiga\n",
            "Empat\n",
            "Lima\n",
            "Enam\n",
            "Tujuh\n",
            "Delapan\n",
            "Sembilan\n",
            "Sepuluh\n"
          ]
        }
      ]
    }
  ]
}